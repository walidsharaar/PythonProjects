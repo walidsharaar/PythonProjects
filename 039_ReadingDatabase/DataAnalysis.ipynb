{
 "cells": [
  {
   "cell_type": "code",
   "execution_count": 28,
   "id": "b8e45048-89c7-4b3d-bf2d-d746ea85a929",
   "metadata": {},
   "outputs": [],
   "source": [
    "import pandas as pd\n",
    "import matplotlib.pyplot as plt"
   ]
  },
  {
   "cell_type": "code",
   "execution_count": 18,
   "id": "c9b4d016-ab38-41b3-8c2f-151010c5d4fc",
   "metadata": {},
   "outputs": [
    {
     "data": {
      "text/html": [
       "<div>\n",
       "<style scoped>\n",
       "    .dataframe tbody tr th:only-of-type {\n",
       "        vertical-align: middle;\n",
       "    }\n",
       "\n",
       "    .dataframe tbody tr th {\n",
       "        vertical-align: top;\n",
       "    }\n",
       "\n",
       "    .dataframe thead th {\n",
       "        text-align: right;\n",
       "    }\n",
       "</style>\n",
       "<table border=\"1\" class=\"dataframe\">\n",
       "  <thead>\n",
       "    <tr style=\"text-align: right;\">\n",
       "      <th></th>\n",
       "      <th>passenger_name</th>\n",
       "      <th>day</th>\n",
       "      <th>month</th>\n",
       "      <th>departure_city</th>\n",
       "      <th>arrival_city</th>\n",
       "      <th>sales</th>\n",
       "    </tr>\n",
       "  </thead>\n",
       "  <tbody>\n",
       "    <tr>\n",
       "      <th>914797</th>\n",
       "      <td>MARIYA ALEKSANDROVA</td>\n",
       "      <td>4</td>\n",
       "      <td>8</td>\n",
       "      <td>Samara</td>\n",
       "      <td>Sochi</td>\n",
       "      <td>119500.0</td>\n",
       "    </tr>\n",
       "    <tr>\n",
       "      <th>1003791</th>\n",
       "      <td>ALEKSANDRA AKIMOVA</td>\n",
       "      <td>9</td>\n",
       "      <td>8</td>\n",
       "      <td>Bratsk</td>\n",
       "      <td>Moscow</td>\n",
       "      <td>335400.0</td>\n",
       "    </tr>\n",
       "    <tr>\n",
       "      <th>847941</th>\n",
       "      <td>ANNA LUKYANOVA</td>\n",
       "      <td>5</td>\n",
       "      <td>8</td>\n",
       "      <td>Krasnodar</td>\n",
       "      <td>Ulyanovsk</td>\n",
       "      <td>77000.0</td>\n",
       "    </tr>\n",
       "    <tr>\n",
       "      <th>258633</th>\n",
       "      <td>NIKITA AFANASEV</td>\n",
       "      <td>8</td>\n",
       "      <td>7</td>\n",
       "      <td>Sochi</td>\n",
       "      <td>Moscow</td>\n",
       "      <td>56000.0</td>\n",
       "    </tr>\n",
       "    <tr>\n",
       "      <th>434047</th>\n",
       "      <td>ALEKSANDR KOZLOV</td>\n",
       "      <td>27</td>\n",
       "      <td>7</td>\n",
       "      <td>Moscow</td>\n",
       "      <td>St. Petersburg</td>\n",
       "      <td>99300.0</td>\n",
       "    </tr>\n",
       "  </tbody>\n",
       "</table>\n",
       "</div>"
      ],
      "text/plain": [
       "              passenger_name  day  month departure_city    arrival_city  \\\n",
       "914797   MARIYA ALEKSANDROVA    4      8         Samara           Sochi   \n",
       "1003791   ALEKSANDRA AKIMOVA    9      8         Bratsk          Moscow   \n",
       "847941        ANNA LUKYANOVA    5      8      Krasnodar       Ulyanovsk   \n",
       "258633       NIKITA AFANASEV    8      7          Sochi          Moscow   \n",
       "434047      ALEKSANDR KOZLOV   27      7         Moscow  St. Petersburg   \n",
       "\n",
       "            sales  \n",
       "914797   119500.0  \n",
       "1003791  335400.0  \n",
       "847941    77000.0  \n",
       "258633    56000.0  \n",
       "434047    99300.0  "
      ]
     },
     "execution_count": 18,
     "metadata": {},
     "output_type": "execute_result"
    }
   ],
   "source": [
    "df = pd.read_csv('D:/csv/airlines_data_part.csv')\n",
    "df1= df.sample(20000)\n",
    "df1.head()"
   ]
  },
  {
   "cell_type": "code",
   "execution_count": 19,
   "id": "95d32037-751a-485b-b734-6a0c16641c5d",
   "metadata": {},
   "outputs": [
    {
     "data": {
      "text/plain": [
       "passenger_name     object\n",
       "day                 int64\n",
       "month               int64\n",
       "departure_city     object\n",
       "arrival_city       object\n",
       "sales             float64\n",
       "dtype: object"
      ]
     },
     "execution_count": 19,
     "metadata": {},
     "output_type": "execute_result"
    }
   ],
   "source": [
    "df1.dtypes"
   ]
  },
  {
   "cell_type": "code",
   "execution_count": 20,
   "id": "d3171c07-3595-449f-bf4f-e44b52d2c76d",
   "metadata": {},
   "outputs": [
    {
     "data": {
      "text/html": [
       "<div>\n",
       "<style scoped>\n",
       "    .dataframe tbody tr th:only-of-type {\n",
       "        vertical-align: middle;\n",
       "    }\n",
       "\n",
       "    .dataframe tbody tr th {\n",
       "        vertical-align: top;\n",
       "    }\n",
       "\n",
       "    .dataframe thead th {\n",
       "        text-align: right;\n",
       "    }\n",
       "</style>\n",
       "<table border=\"1\" class=\"dataframe\">\n",
       "  <thead>\n",
       "    <tr style=\"text-align: right;\">\n",
       "      <th></th>\n",
       "      <th>day</th>\n",
       "      <th>month</th>\n",
       "      <th>sales</th>\n",
       "    </tr>\n",
       "  </thead>\n",
       "  <tbody>\n",
       "    <tr>\n",
       "      <th>count</th>\n",
       "      <td>1.016625e+06</td>\n",
       "      <td>1.016625e+06</td>\n",
       "      <td>1.016625e+06</td>\n",
       "    </tr>\n",
       "    <tr>\n",
       "      <th>mean</th>\n",
       "      <td>1.395497e+01</td>\n",
       "      <td>7.308453e+00</td>\n",
       "      <td>1.061844e+05</td>\n",
       "    </tr>\n",
       "    <tr>\n",
       "      <th>std</th>\n",
       "      <td>8.717292e+00</td>\n",
       "      <td>5.197946e-01</td>\n",
       "      <td>9.915071e+04</td>\n",
       "    </tr>\n",
       "    <tr>\n",
       "      <th>min</th>\n",
       "      <td>1.000000e+00</td>\n",
       "      <td>6.000000e+00</td>\n",
       "      <td>3.400000e+03</td>\n",
       "    </tr>\n",
       "    <tr>\n",
       "      <th>25%</th>\n",
       "      <td>7.000000e+00</td>\n",
       "      <td>7.000000e+00</td>\n",
       "      <td>4.400000e+04</td>\n",
       "    </tr>\n",
       "    <tr>\n",
       "      <th>50%</th>\n",
       "      <td>1.200000e+01</td>\n",
       "      <td>7.000000e+00</td>\n",
       "      <td>7.520000e+04</td>\n",
       "    </tr>\n",
       "    <tr>\n",
       "      <th>75%</th>\n",
       "      <td>2.100000e+01</td>\n",
       "      <td>8.000000e+00</td>\n",
       "      <td>1.342000e+05</td>\n",
       "    </tr>\n",
       "    <tr>\n",
       "      <th>max</th>\n",
       "      <td>3.100000e+01</td>\n",
       "      <td>8.000000e+00</td>\n",
       "      <td>1.673700e+06</td>\n",
       "    </tr>\n",
       "  </tbody>\n",
       "</table>\n",
       "</div>"
      ],
      "text/plain": [
       "                day         month         sales\n",
       "count  1.016625e+06  1.016625e+06  1.016625e+06\n",
       "mean   1.395497e+01  7.308453e+00  1.061844e+05\n",
       "std    8.717292e+00  5.197946e-01  9.915071e+04\n",
       "min    1.000000e+00  6.000000e+00  3.400000e+03\n",
       "25%    7.000000e+00  7.000000e+00  4.400000e+04\n",
       "50%    1.200000e+01  7.000000e+00  7.520000e+04\n",
       "75%    2.100000e+01  8.000000e+00  1.342000e+05\n",
       "max    3.100000e+01  8.000000e+00  1.673700e+06"
      ]
     },
     "execution_count": 20,
     "metadata": {},
     "output_type": "execute_result"
    }
   ],
   "source": [
    "df1.describe()"
   ]
  },
  {
   "cell_type": "code",
   "execution_count": 21,
   "id": "75a6139d-ae50-4724-a340-0fb383a92364",
   "metadata": {},
   "outputs": [
    {
     "data": {
      "text/plain": [
       "count    1.016625e+06\n",
       "mean     1.061844e+05\n",
       "std      9.915071e+04\n",
       "min      3.400000e+03\n",
       "25%      4.400000e+04\n",
       "50%      7.520000e+04\n",
       "75%      1.342000e+05\n",
       "max      1.673700e+06\n",
       "Name: sales, dtype: float64"
      ]
     },
     "execution_count": 21,
     "metadata": {},
     "output_type": "execute_result"
    }
   ],
   "source": [
    "df1.sales.describe()"
   ]
  },
  {
   "cell_type": "code",
   "execution_count": 22,
   "id": "be1fd916-82e1-4e72-a2e5-63d9062223af",
   "metadata": {},
   "outputs": [
    {
     "data": {
      "text/plain": [
       "106184.40772162794"
      ]
     },
     "execution_count": 22,
     "metadata": {},
     "output_type": "execute_result"
    }
   ],
   "source": [
    "df1['sales'].mean()"
   ]
  },
  {
   "cell_type": "code",
   "execution_count": 24,
   "id": "b9f48303-2357-483e-a230-52eedf2e83b5",
   "metadata": {},
   "outputs": [
    {
     "data": {
      "text/plain": [
       "74400.0"
      ]
     },
     "execution_count": 24,
     "metadata": {},
     "output_type": "execute_result"
    }
   ],
   "source": [
    "df1['sales'].median()"
   ]
  },
  {
   "cell_type": "code",
   "execution_count": 25,
   "id": "e7dd7c6f-7b30-4a1e-ba2e-5fd0573e78ef",
   "metadata": {},
   "outputs": [
    {
     "data": {
      "text/html": [
       "<div>\n",
       "<style scoped>\n",
       "    .dataframe tbody tr th:only-of-type {\n",
       "        vertical-align: middle;\n",
       "    }\n",
       "\n",
       "    .dataframe tbody tr th {\n",
       "        vertical-align: top;\n",
       "    }\n",
       "\n",
       "    .dataframe thead th {\n",
       "        text-align: right;\n",
       "    }\n",
       "</style>\n",
       "<table border=\"1\" class=\"dataframe\">\n",
       "  <thead>\n",
       "    <tr style=\"text-align: right;\">\n",
       "      <th></th>\n",
       "      <th>passenger_name</th>\n",
       "      <th>day</th>\n",
       "      <th>month</th>\n",
       "      <th>departure_city</th>\n",
       "      <th>arrival_city</th>\n",
       "      <th>sales</th>\n",
       "    </tr>\n",
       "  </thead>\n",
       "  <tbody>\n",
       "    <tr>\n",
       "      <th>914797</th>\n",
       "      <td>MARIYA ALEKSANDROVA</td>\n",
       "      <td>4</td>\n",
       "      <td>8</td>\n",
       "      <td>Samara</td>\n",
       "      <td>Sochi</td>\n",
       "      <td>119500.0</td>\n",
       "    </tr>\n",
       "    <tr>\n",
       "      <th>1003791</th>\n",
       "      <td>ALEKSANDRA AKIMOVA</td>\n",
       "      <td>9</td>\n",
       "      <td>8</td>\n",
       "      <td>Bratsk</td>\n",
       "      <td>Moscow</td>\n",
       "      <td>335400.0</td>\n",
       "    </tr>\n",
       "    <tr>\n",
       "      <th>847941</th>\n",
       "      <td>ANNA LUKYANOVA</td>\n",
       "      <td>5</td>\n",
       "      <td>8</td>\n",
       "      <td>Krasnodar</td>\n",
       "      <td>Ulyanovsk</td>\n",
       "      <td>77000.0</td>\n",
       "    </tr>\n",
       "    <tr>\n",
       "      <th>258633</th>\n",
       "      <td>NIKITA AFANASEV</td>\n",
       "      <td>8</td>\n",
       "      <td>7</td>\n",
       "      <td>Sochi</td>\n",
       "      <td>Moscow</td>\n",
       "      <td>56000.0</td>\n",
       "    </tr>\n",
       "    <tr>\n",
       "      <th>434047</th>\n",
       "      <td>ALEKSANDR KOZLOV</td>\n",
       "      <td>27</td>\n",
       "      <td>7</td>\n",
       "      <td>Moscow</td>\n",
       "      <td>St. Petersburg</td>\n",
       "      <td>99300.0</td>\n",
       "    </tr>\n",
       "  </tbody>\n",
       "</table>\n",
       "</div>"
      ],
      "text/plain": [
       "              passenger_name  day  month departure_city    arrival_city  \\\n",
       "914797   MARIYA ALEKSANDROVA    4      8         Samara           Sochi   \n",
       "1003791   ALEKSANDRA AKIMOVA    9      8         Bratsk          Moscow   \n",
       "847941        ANNA LUKYANOVA    5      8      Krasnodar       Ulyanovsk   \n",
       "258633       NIKITA AFANASEV    8      7          Sochi          Moscow   \n",
       "434047      ALEKSANDR KOZLOV   27      7         Moscow  St. Petersburg   \n",
       "\n",
       "            sales  \n",
       "914797   119500.0  \n",
       "1003791  335400.0  \n",
       "847941    77000.0  \n",
       "258633    56000.0  \n",
       "434047    99300.0  "
      ]
     },
     "execution_count": 25,
     "metadata": {},
     "output_type": "execute_result"
    }
   ],
   "source": [
    "df1.head()"
   ]
  },
  {
   "cell_type": "code",
   "execution_count": 29,
   "id": "93019ddf-f10d-4b1f-a17c-65d384747634",
   "metadata": {},
   "outputs": [
    {
     "data": {
      "image/png": "[encoded data removed]",
      "text/plain": [
       "<Figure size 432x288 with 1 Axes>"
      ]
     },
     "metadata": {
      "needs_background": "light"
     },
     "output_type": "display_data"
    }
   ],
   "source": [
    "sales = df1['sales']\n",
    "months = df1['month']\n",
    "plt.bar(months,sales)\n",
    "plt.ylabel('Sales')\n",
    "plt.xlabel('Summer Months')\n",
    "plt.show()"
   ]
  },
  {
   "cell_type": "code",
   "execution_count": null,
   "id": "81894541-3018-41a2-ab0f-3d4d072e1ebb",
   "metadata": {},
   "outputs": [],
   "source": []
  }
 ],
 "metadata": {
  "kernelspec": {
   "display_name": "Python 3 (ipykernel)",
   "language": "python",
   "name": "python3"
  },
  "language_info": {
   "codemirror_mode": {
    "name": "ipython",
    "version": 3
   },
   "file_extension": ".py",
   "mimetype": "text/x-python",
   "name": "python",
   "nbconvert_exporter": "python",
   "pygments_lexer": "ipython3",
   "version": "3.10.4"
  }
 },
 "nbformat": 4,
 "nbformat_minor": 5
}
