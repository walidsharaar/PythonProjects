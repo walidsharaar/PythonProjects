{
 "cells": [
  {
   "cell_type": "code",
   "execution_count": 54,
   "id": "a8999cbd",
   "metadata": {},
   "outputs": [],
   "source": [
    "# import related libraries\n",
    "import pandas as pd\n",
    "import matplotlib.pyplot as plt\n",
    "import numpy as np\n",
    "import seaborn as sns\n",
    "from google.cloud import bigquery\n",
    "from google.oauth2 import service_account"
   ]
  },
  {
   "cell_type": "code",
   "execution_count": 55,
   "id": "334eebfa",
   "metadata": {},
   "outputs": [],
   "source": [
    "credentials = service_account.Credentials.from_service_account_file(\"C:/Users/walid/Downloads/big-query-348313-33b3f5615b7f.json\")\n",
    "client = bigquery.Client(credentials=credentials)\n"
   ]
  },
  {
   "cell_type": "code",
   "execution_count": 65,
   "id": "2bc52fe5",
   "metadata": {},
   "outputs": [],
   "source": [
    "def load_data_from_ref_object(client, dataset_name, table_name, max_results=10):\n",
    "    dataset_ref= client.dataset(dataset_name, project='bigquery-public-data')\n",
    "    dataset= client.get_dataset(dataset_ref)\n",
    "    \n",
    "    print('List all Tables in Dataset --')\n",
    "    tables= list(client.list_tables(dataset))\n",
    "    for t in tables:\n",
    "        print(t.table_id)\n",
    "        \n",
    "    table_ref = dataset_ref.table(table_name)\n",
    "    table = client.get_dataset(table_ref)\n",
    "    \n",
    "    print('Schema of the Table ---')\n",
    "    print(table.schema)\n",
    "    \n",
    "    data = client.list_rows(table, max_results = max_results).to_dataframe()\n",
    "\n",
    "\n",
    "    return data\n"
   ]
  },
  {
   "cell_type": "code",
   "execution_count": 67,
   "id": "9a8cf2ad",
   "metadata": {},
   "outputs": [
    {
     "ename": "NameError",
     "evalue": "name 'data' is not defined",
     "output_type": "error",
     "traceback": [
      "\u001b[1;31m---------------------------------------------------------------------------\u001b[0m",
      "\u001b[1;31mNameError\u001b[0m                                 Traceback (most recent call last)",
      "Input \u001b[1;32mIn [67]\u001b[0m, in \u001b[0;36m<cell line: 1>\u001b[1;34m()\u001b[0m\n\u001b[1;32m----> 1\u001b[0m \u001b[43mdata\u001b[49m\u001b[38;5;241m.\u001b[39mhead()\n",
      "\u001b[1;31mNameError\u001b[0m: name 'data' is not defined"
     ]
    }
   ],
   "source": [
    "data.head()"
   ]
  },
  {
   "cell_type": "code",
   "execution_count": null,
   "id": "6ee0bf94",
   "metadata": {},
   "outputs": [],
   "source": []
  }
 ],
 "metadata": {
  "kernelspec": {
   "display_name": "Python 3 (ipykernel)",
   "language": "python",
   "name": "python3"
  },
  "language_info": {
   "codemirror_mode": {
    "name": "ipython",
    "version": 3
   },
   "file_extension": ".py",
   "mimetype": "text/x-python",
   "name": "python",
   "nbconvert_exporter": "python",
   "pygments_lexer": "ipython3",
   "version": "3.9.12"
  }
 },
 "nbformat": 4,
 "nbformat_minor": 5
}
